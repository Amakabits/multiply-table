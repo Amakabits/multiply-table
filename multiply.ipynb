{
 "cells": [
  {
   "cell_type": "code",
   "execution_count": null,
   "metadata": {},
   "outputs": [],
   "source": [
    "# Function to display the times table\n",
    "def display_times_table():\n",
    "    # Taking input from the user\n",
    "    try:\n",
    "        num = int(input(\"Enter the number for the times table: \"))\n",
    "        \n",
    "        # Displaying the times table from 1 to 12\n",
    "        for i in range(1, 13):\n",
    "            result = i * num\n",
    "            print(f\"{i} * {num} = {result}\")\n",
    "    except ValueError:\n",
    "        print(\"Invalid input. Please enter an integer value.\")\n",
    "\n",
    "# Calling the function\n",
    "display_times_table()\n"
   ]
  },
  {
   "cell_type": "markdown",
   "metadata": {},
   "source": [
    "OUTPUTS\n",
    "\n",
    "TIMES TABLE FOR 4:\n",
    "1 * 4 = 4\n",
    "2 * 4 = 8\n",
    "3 * 4 = 12\n",
    "4 * 4 = 16\n",
    "5 * 4 = 20\n",
    "6 * 4 = 24\n",
    "7 * 4 = 28\n",
    "8 * 4 = 32\n",
    "9 * 4 = 36\n",
    "10 * 4 = 40\n",
    "11 * 4 = 44\n",
    "12 * 4 = 48\n",
    "\n",
    "TIMES TABLE FOR 1:\n",
    "1 * 1 = 1\n",
    "2 * 1 = 2\n",
    "3 * 1 = 3\n",
    "4 * 1 = 4\n",
    "5 * 1 = 5\n",
    "6 * 1 = 6\n",
    "7 * 1 = 7\n",
    "8 * 1 = 8\n",
    "9 * 1 = 9\n",
    "10 * 1 = 10\n",
    "11 * 1 = 11\n",
    "12 * 1 = 12\n",
    "\n",
    "TIMES TABLE FOR 2:\n",
    "1 * 2 = 2\n",
    "2 * 2 = 4\n",
    "3 * 2 = 6\n",
    "4 * 2 = 8\n",
    "5 * 2 = 10\n",
    "6 * 2 = 12\n",
    "7 * 2 = 14\n",
    "8 * 2 = 16\n",
    "9 * 2 = 18\n",
    "10 * 2 = 20\n",
    "11 * 2 = 22\n",
    "12 * 2 = 24\n",
    "\n"
   ]
  }
 ],
 "metadata": {
  "kernelspec": {
   "display_name": "Python 3",
   "language": "python",
   "name": "python3"
  },
  "language_info": {
   "codemirror_mode": {
    "name": "ipython",
    "version": 3
   },
   "file_extension": ".py",
   "mimetype": "text/x-python",
   "name": "python",
   "nbconvert_exporter": "python",
   "pygments_lexer": "ipython3",
   "version": "3.12.4"
  }
 },
 "nbformat": 4,
 "nbformat_minor": 2
}
